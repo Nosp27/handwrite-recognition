{
 "cells": [
  {
   "cell_type": "code",
   "execution_count": 1,
   "metadata": {},
   "outputs": [
    {
     "ename": "ModuleNotFoundError",
     "evalue": "No module named 'matplotlib'",
     "output_type": "error",
     "traceback": [
      "\u001b[0;31m---------------------------------------------------------------------------\u001b[0m",
      "\u001b[0;31mModuleNotFoundError\u001b[0m                       Traceback (most recent call last)",
      "\u001b[0;32m<ipython-input-1-4fb156ce5359>\u001b[0m in \u001b[0;36m<module>\u001b[0;34m\u001b[0m\n\u001b[1;32m      8\u001b[0m \u001b[0;32mfrom\u001b[0m \u001b[0mpathlib\u001b[0m \u001b[0;32mimport\u001b[0m \u001b[0mPath\u001b[0m\u001b[0;34m\u001b[0m\u001b[0;34m\u001b[0m\u001b[0m\n\u001b[1;32m      9\u001b[0m \u001b[0;32mimport\u001b[0m \u001b[0mhashlib\u001b[0m\u001b[0;34m\u001b[0m\u001b[0;34m\u001b[0m\u001b[0m\n\u001b[0;32m---> 10\u001b[0;31m \u001b[0;32mfrom\u001b[0m \u001b[0mmatplotlib\u001b[0m \u001b[0;32mimport\u001b[0m \u001b[0mpyplot\u001b[0m \u001b[0;32mas\u001b[0m \u001b[0mplt\u001b[0m\u001b[0;34m\u001b[0m\u001b[0;34m\u001b[0m\u001b[0m\n\u001b[0m",
      "\u001b[0;31mModuleNotFoundError\u001b[0m: No module named 'matplotlib'"
     ]
    }
   ],
   "source": [
    "import asyncio\n",
    "import aiohttp\n",
    "import time\n",
    "import random\n",
    "import numpy as np\n",
    "import base64\n",
    "import os\n",
    "from pathlib import Path\n",
    "import hashlib"
   ]
  },
  {
   "cell_type": "code",
   "execution_count": 61,
   "metadata": {},
   "outputs": [],
   "source": [
    "benchmark_for = dict()"
   ]
  },
  {
   "cell_type": "code",
   "execution_count": 87,
   "metadata": {},
   "outputs": [],
   "source": [
    "lang = \"eng\"\n",
    "\n",
    "async def one_shot(*, img, deadline):\n",
    "    ret = dict()\n",
    "    \n",
    "    start_time = time.time()\n",
    "    async with aiohttp.ClientSession() as session:\n",
    "        ret[\"start_time\"] = start_time\n",
    "        resp = await session.post(\"http://localhost/api/image_submit/\", json={\"image\": img, \"lang\": lang})\n",
    "        resp.raise_for_status()\n",
    "        \n",
    "        req_id = (await resp.json())[\"request_id\"]\n",
    "        ret[\"image_hash\"] = hashlib.md5(img.encode()).hexdigest()\n",
    "\n",
    "    while True:\n",
    "        async with aiohttp.ClientSession() as session:\n",
    "            try:\n",
    "                status_check = await session.get(\"http://localhost/api/status/\", params={\"request_id\": req_id})\n",
    "                status_check.raise_for_status()\n",
    "                \n",
    "                json_data = await status_check.json()\n",
    "                status = json_data[\"status\"]\n",
    "                if status not in ret:\n",
    "                    ret[status+\"_time\"] = time.time()\n",
    "\n",
    "                if json_data.get(\"result\"):\n",
    "                    ret[\"result_time\"] = time.time()\n",
    "                    ret[\"result\"] = json_data[\"result\"]\n",
    "                    break\n",
    "            except Exception as exc:\n",
    "                ret[\"status_error\"] = f\"{type(exc)}, {str(exc)}\"\n",
    "                ret[\"status_error_time\"] = time.time()\n",
    "                break\n",
    "            finally:\n",
    "                if time.time() > deadline:\n",
    "                    ret[\"timeout\"] = True\n",
    "                    ret[\"timeout_time\"] = time.time()\n",
    "                    return ret\n",
    "                if \"result\" not in ret:\n",
    "                    await asyncio.sleep(1)\n",
    "    return ret\n",
    "                \n",
    "\n",
    "async def start_client(ttl, imgs):\n",
    "    start_time = time.time()\n",
    "    ret = []\n",
    "    while True:\n",
    "        img = random.choice(imgs)\n",
    "        if time.time() - start_time > ttl - 5:  # threshold\n",
    "            return ret\n",
    "        try:\n",
    "            result = await one_shot(img=img, deadline=start_time + ttl)\n",
    "            if \"timeout\" in ret:\n",
    "                return ret\n",
    "            ret.append(result)\n",
    "        except asyncio.TimeoutError:\n",
    "            print(\"Timeout\")\n",
    "            return ret\n",
    "    return ret\n",
    "\n",
    "\n",
    "def ls_images():\n",
    "    imgs = []\n",
    "    d = Path(\"./text_samples/\")\n",
    "    for root, dirs, files in os.walk(d):\n",
    "        for filename in files:\n",
    "            if not filename.endswith((\".png\", \".jpg\")):\n",
    "                continue\n",
    "            with open(d/filename, \"rb\") as f:\n",
    "                imgs.append(base64.encodebytes(f.read()).decode())\n",
    "    return imgs\n",
    "                  \n",
    "    \n",
    "async def benchmark(clients, duration):\n",
    "    imgs = ls_images()\n",
    "    start_time = time.time()\n",
    "    result = await asyncio.gather(*[start_client(duration, imgs) for _ in range(clients)])\n",
    "    \n",
    "    return start_time, result"
   ]
  },
  {
   "cell_type": "code",
   "execution_count": 92,
   "metadata": {},
   "outputs": [
    {
     "name": "stdout",
     "output_type": "stream",
     "text": [
      "1 clients\n",
      "Sleeping\n",
      "Wake up\n",
      "5 clients\n",
      "Sleeping\n",
      "Wake up\n",
      "15 clients\n",
      "Sleeping\n",
      "Wake up\n",
      "20 clients\n",
      "Sleeping\n",
      "Wake up\n"
     ]
    }
   ],
   "source": [
    "latencies = dict()\n",
    "total = dict()\n",
    "for clients in [1,5,15,20]:\n",
    "    print(f\"{clients} clients\")\n",
    "    query_start, bm_data = await benchmark(clients, 60)\n",
    "    t = []\n",
    "    for x in bm_data:\n",
    "        t.extend(x)\n",
    "    for a in t:\n",
    "        for k in a:\n",
    "            if k.endswith(\"time\"):\n",
    "                a[k] -= query_start\n",
    "    total[clients] = t\n",
    "    print(\"Sleeping\")\n",
    "    time.sleep(10)\n",
    "    print(\"Wake up\")"
   ]
  },
  {
   "cell_type": "code",
   "execution_count": 93,
   "metadata": {},
   "outputs": [
    {
     "data": {
      "text/plain": [
       "{1: array([15.23122716, 25.32169294,  2.08046198,  1.04274201,  1.05871487,\n",
       "         1.0404799 ,  1.0521431 ,  1.04868603,  1.04458189,  1.05296612,\n",
       "         1.05737019,  1.04781175,  1.0481441 ,  1.04587889,  1.05462599]),\n",
       " 5: array([ 3.25070429, 21.29825401,  1.06564569, 30.42092204,  7.23122191,\n",
       "        39.66141105,  9.14002728,  7.22568393, 36.62498593,  2.06458902,\n",
       "         1.04498291,  9.15673709,  7.27069736, 37.62671995,  3.08446097,\n",
       "         1.06667328, 10.11943817,  7.29388309, 33.54517508,  7.10188794,\n",
       "        11.20923638]),\n",
       " 15: array([24.88037682,  1.26374292, 13.52970695, 47.48995495, 40.26038885,\n",
       "         1.20713615, 21.48198295, 53.43902087, 11.58625889, 26.8931911 ,\n",
       "        13.65891099]),\n",
       " 20: array([35.22230029,  1.31637692, 21.89293885,  8.79851103, 16.75828409,\n",
       "        54.57278919, 14.82511401, 26.081532  , 38.25341105, 14.82149601,\n",
       "         1.35204792,  2.52271485,  1.51572609])}"
      ]
     },
     "execution_count": 93,
     "metadata": {},
     "output_type": "execute_result"
    }
   ],
   "source": [
    "latencies = {c: np.array([x[\"result_time\"] - x[\"start_time\"] for x in total[c] if \"result_time\" in x]) for c in total}\n",
    "latencies"
   ]
  },
  {
   "cell_type": "code",
   "execution_count": 94,
   "metadata": {},
   "outputs": [
    {
     "data": {
      "text/plain": [
       "{1: 1.0521430969238281,\n",
       " 5: 7.2938830852508545,\n",
       " 15: 21.481982946395874,\n",
       " 20: 14.825114011764526}"
      ]
     },
     "execution_count": 94,
     "metadata": {},
     "output_type": "execute_result"
    }
   ],
   "source": [
    "{c: np.percentile(v, 50) for c,v in latencies.items()}"
   ]
  },
  {
   "cell_type": "code",
   "execution_count": null,
   "metadata": {},
   "outputs": [],
   "source": [
    "50: \n",
    "{1: 1.048432469367981,\n",
    " 5: 2.1049283742904663,\n",
    " 15: 6.161871910095215,\n",
    " 20: 8.814648151397705}\n",
    "\n",
    "95:\n",
    "{1: 1.0595536351203918,\n",
    " 5: 3.1468580603599547,\n",
    " 15: 7.338586020469665,\n",
    " 20: 9.959573864936829}\n",
    "\n"
   ]
  },
  {
   "cell_type": "code",
   "execution_count": 71,
   "metadata": {},
   "outputs": [],
   "source": [
    "benchmark_for[1] = total"
   ]
  },
  {
   "cell_type": "code",
   "execution_count": null,
   "metadata": {},
   "outputs": [],
   "source": []
  }
 ],
 "metadata": {
  "kernelspec": {
   "display_name": "Python 3",
   "language": "python",
   "name": "python3"
  },
  "language_info": {
   "codemirror_mode": {
    "name": "ipython",
    "version": 3
   },
   "file_extension": ".py",
   "mimetype": "text/x-python",
   "name": "python",
   "nbconvert_exporter": "python",
   "pygments_lexer": "ipython3",
   "version": "3.7.4"
  }
 },
 "nbformat": 4,
 "nbformat_minor": 4
}
