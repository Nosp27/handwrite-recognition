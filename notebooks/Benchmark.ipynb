{
 "cells": [
  {
   "cell_type": "code",
   "execution_count": 1,
   "metadata": {},
   "outputs": [
    {
     "ename": "ModuleNotFoundError",
     "evalue": "No module named 'matplotlib'",
     "output_type": "error",
     "traceback": [
      "\u001b[0;31m---------------------------------------------------------------------------\u001b[0m",
      "\u001b[0;31mModuleNotFoundError\u001b[0m                       Traceback (most recent call last)",
      "\u001b[0;32m<ipython-input-1-4fb156ce5359>\u001b[0m in \u001b[0;36m<module>\u001b[0;34m\u001b[0m\n\u001b[1;32m      8\u001b[0m \u001b[0;32mfrom\u001b[0m \u001b[0mpathlib\u001b[0m \u001b[0;32mimport\u001b[0m \u001b[0mPath\u001b[0m\u001b[0;34m\u001b[0m\u001b[0;34m\u001b[0m\u001b[0m\n\u001b[1;32m      9\u001b[0m \u001b[0;32mimport\u001b[0m \u001b[0mhashlib\u001b[0m\u001b[0;34m\u001b[0m\u001b[0;34m\u001b[0m\u001b[0m\n\u001b[0;32m---> 10\u001b[0;31m \u001b[0;32mfrom\u001b[0m \u001b[0mmatplotlib\u001b[0m \u001b[0;32mimport\u001b[0m \u001b[0mpyplot\u001b[0m \u001b[0;32mas\u001b[0m \u001b[0mplt\u001b[0m\u001b[0;34m\u001b[0m\u001b[0;34m\u001b[0m\u001b[0m\n\u001b[0m",
      "\u001b[0;31mModuleNotFoundError\u001b[0m: No module named 'matplotlib'"
     ]
    }
   ],
   "source": [
    "import asyncio\n",
    "import aiohttp\n",
    "import time\n",
    "import random\n",
    "import numpy as np\n",
    "import base64\n",
    "import os\n",
    "from pathlib import Path\n",
    "import hashlib"
   ]
  },
  {
   "cell_type": "code",
   "execution_count": 61,
   "metadata": {},
   "outputs": [],
   "source": [
    "benchmark_for = dict()"
   ]
  },
  {
   "cell_type": "code",
   "execution_count": 117,
   "metadata": {},
   "outputs": [],
   "source": [
    "lang = \"eng\"\n",
    "\n",
    "async def one_shot(*, img, deadline):\n",
    "    ret = dict()\n",
    "    \n",
    "    start_time = time.time()\n",
    "    async with aiohttp.ClientSession() as session:\n",
    "        ret[\"start_time\"] = start_time\n",
    "        resp = await session.post(\"http://localhost/api/image_submit/\", json={\"image\": img, \"lang\": lang})\n",
    "        resp.raise_for_status()\n",
    "        \n",
    "        req_id = (await resp.json())[\"request_id\"]\n",
    "        ret[\"image_hash\"] = hashlib.md5(img.encode()).hexdigest()\n",
    "    ret[\"check_delay\"] = []\n",
    "    while True:\n",
    "        async with aiohttp.ClientSession() as session:\n",
    "            try:\n",
    "                t = time.time()\n",
    "                status_check = await session.get(\"http://localhost/api/status/\", params={\"request_id\": req_id})\n",
    "                ret[\"check_delay\"].append(time.time() - t)\n",
    "                status_check.raise_for_status()\n",
    "                \n",
    "                json_data = await status_check.json()\n",
    "                status = json_data[\"status\"]\n",
    "                if status not in ret:\n",
    "                    ret[status+\"_time\"] = time.time()\n",
    "\n",
    "                if json_data.get(\"result\"):\n",
    "                    ret[\"result_time\"] = time.time()\n",
    "                    ret[\"result\"] = json_data[\"result\"]\n",
    "                    break\n",
    "            except Exception as exc:\n",
    "                ret[\"status_error\"] = f\"{type(exc)}, {str(exc)}\"\n",
    "                ret[\"status_error_time\"] = time.time()\n",
    "                break\n",
    "            finally:\n",
    "                if time.time() > deadline:\n",
    "                    ret[\"timeout\"] = True\n",
    "                    ret[\"timeout_time\"] = time.time()\n",
    "                    return ret\n",
    "                if \"result\" not in ret:\n",
    "                    await asyncio.sleep(1)\n",
    "    return ret\n",
    "                \n",
    "\n",
    "async def start_client(ttl, imgs):\n",
    "    start_time = time.time()\n",
    "    ret = []\n",
    "    while True:\n",
    "        img = random.choice(imgs)\n",
    "        if time.time() - start_time > ttl - 5:  # threshold\n",
    "            return ret\n",
    "        try:\n",
    "            result = await one_shot(img=img, deadline=start_time + ttl)\n",
    "            if \"timeout\" in ret:\n",
    "                return ret\n",
    "            ret.append(result)\n",
    "        except asyncio.TimeoutError:\n",
    "            print(\"Timeout\")\n",
    "            return ret\n",
    "    return ret\n",
    "\n",
    "\n",
    "def ls_images():\n",
    "    imgs = []\n",
    "    d = Path(\"./text_samples/\")\n",
    "    for root, dirs, files in os.walk(d):\n",
    "        for filename in files:\n",
    "            if not filename.endswith((\".png\", \".jpg\")):\n",
    "                continue\n",
    "            with open(d/filename, \"rb\") as f:\n",
    "                imgs.append(base64.encodebytes(f.read()).decode())\n",
    "    return imgs\n",
    "                  \n",
    "    \n",
    "async def benchmark(clients, duration):\n",
    "    imgs = ls_images()\n",
    "    start_time = time.time()\n",
    "    result = await asyncio.gather(*[start_client(duration, imgs) for _ in range(clients)])\n",
    "    \n",
    "    return start_time, result"
   ]
  },
  {
   "cell_type": "code",
   "execution_count": 118,
   "metadata": {},
   "outputs": [
    {
     "name": "stdout",
     "output_type": "stream",
     "text": [
      "1 clients\n",
      "Sleeping\n",
      "Wake up\n",
      "5 clients\n",
      "Sleeping\n",
      "Wake up\n",
      "15 clients\n",
      "Sleeping\n",
      "Wake up\n",
      "20 clients\n"
     ]
    }
   ],
   "source": [
    "latencies = dict()\n",
    "total = dict()\n",
    "for clients in [1,5,15,20]:\n",
    "    print(f\"{clients} clients\")\n",
    "    query_start, bm_data = await benchmark(clients, 60)\n",
    "    t = []\n",
    "    for x in bm_data:\n",
    "        t.extend(x)\n",
    "    for a in t:\n",
    "        for k in a:\n",
    "            if k.endswith(\"time\"):\n",
    "                a[k] -= query_start\n",
    "    total[clients] = t\n",
    "    if clients != 20:\n",
    "        print(\"Sleeping\")\n",
    "        time.sleep(10)\n",
    "        print(\"Wake up\")"
   ]
  },
  {
   "cell_type": "code",
   "execution_count": 119,
   "metadata": {},
   "outputs": [
    {
     "data": {
      "text/plain": [
       "{1: array([1.07777786, 1.05231786, 1.07082009, 1.04630876, 1.0529232 ,\n",
       "        1.04497695, 1.05969095, 1.05408192, 1.05370712, 1.05895591,\n",
       "        1.05386806, 1.039253  , 1.04991603, 1.04283714, 1.05556703,\n",
       "        1.03823423, 1.04738402, 1.04284716, 1.06275201, 1.06337476,\n",
       "        1.04367304, 1.06091499, 1.04877424, 1.04935908, 1.06383801,\n",
       "        1.04841065, 1.05648065, 1.0564971 , 1.06780505, 1.40447211,\n",
       "        1.04994392, 1.07639122, 1.03777814, 1.06051111, 1.06547213,\n",
       "        1.06999493, 1.05149484, 1.04783607, 1.0488131 , 1.06206679,\n",
       "        1.04994488, 1.04945087, 1.05467796, 1.05646491, 1.06835794,\n",
       "        1.05273819, 1.05364203, 1.05486321, 1.05268717, 1.045717  ,\n",
       "        1.05023837, 1.04920816]),\n",
       " 5: array([ 6.23474121, 19.34756899,  1.04745913,  4.09591103, 21.2988627 ,\n",
       "        10.32612467,  5.11631107,  1.11975288,  7.19150186, 18.33629298,\n",
       "         1.05371904,  4.09577703,  1.04250383, 10.31599092,  1.07722688,\n",
       "         1.04832006, 18.34235311, 28.55169797, 15.42255402,  9.28963304,\n",
       "         6.15119219, 17.32305408,  1.05461717, 15.41890907, 10.24630618,\n",
       "         5.13740206, 29.54144382]),\n",
       " 15: array([1.31146121, 3.31185222, 3.31415701, 3.36748719, 5.295084  ,\n",
       "        1.1874311 , 3.36620498]),\n",
       " 20: array([35.37254572, 38.51279688])}"
      ]
     },
     "execution_count": 119,
     "metadata": {},
     "output_type": "execute_result"
    }
   ],
   "source": [
    "latencies = {c: np.array([x[\"result_time\"] - x[\"start_time\"] for x in total[c] if \"result_time\" in x]) for c in total}\n",
    "latencies"
   ]
  },
  {
   "cell_type": "code",
   "execution_count": 121,
   "metadata": {},
   "outputs": [
    {
     "data": {
      "text/plain": [
       "{1: array([0.0104006 , 0.00871804, 0.01239119, 0.009188  , 0.00953139,\n",
       "        0.012288  , 0.01135096, 0.00877285, 0.00946359, 0.0093109 ,\n",
       "        0.01291891, 0.00753058, 0.00969471, 0.00990734, 0.00975547,\n",
       "        0.00947188, 0.00925528, 0.00961751, 0.01362661, 0.01252462,\n",
       "        0.01125412, 0.01022511, 0.00842418, 0.01034321, 0.01001208,\n",
       "        0.00959525, 0.0113418 , 0.00935101, 0.01110411, 0.00933569,\n",
       "        0.00913822, 0.01399074, 0.00967563, 0.00986804, 0.01064601,\n",
       "        0.01209091, 0.01256956, 0.01071144, 0.01035476, 0.01194014,\n",
       "        0.01042233, 0.00976167, 0.01064808, 0.00971159, 0.00866784,\n",
       "        0.00981869, 0.00850254, 0.0103393 , 0.00972083, 0.01241395,\n",
       "        0.01236411, 0.01148064]),\n",
       " 5: array([0.02221519, 0.02212209, 0.0093295 , 0.00974304, 0.01437625,\n",
       "        0.02606959, 0.01257344, 0.02767814, 0.02290833, 0.02076996,\n",
       "        0.01066174, 0.01055848, 0.01108652, 0.02332499, 0.01498038,\n",
       "        0.01582849, 0.02562655, 0.02715013, 0.02816998, 0.02496794,\n",
       "        0.01721205, 0.01759367, 0.01044347, 0.02628013, 0.01993487,\n",
       "        0.01963557, 0.02276671]),\n",
       " 15: array([0.03928122, 0.05047836, 0.04765409, 0.03786245, 0.05360546,\n",
       "        0.01629714, 0.04922841]),\n",
       " 20: array([0.07006173, 0.14504114])}"
      ]
     },
     "execution_count": 121,
     "metadata": {},
     "output_type": "execute_result"
    }
   ],
   "source": [
    "checks = {c: np.array([np.percentile(x[\"check_delay\"], 99) for x in total[c] if \"result_time\" in x]) for c in total}\n",
    "checks"
   ]
  },
  {
   "cell_type": "code",
   "execution_count": 112,
   "metadata": {},
   "outputs": [
    {
     "data": {
      "text/plain": [
       "{1: 1.0520009994506836,\n",
       " 5: 11.190875053405762,\n",
       " 15: 5.650650858879089,\n",
       " 20: 4.63698673248291}"
      ]
     },
     "execution_count": 112,
     "metadata": {},
     "output_type": "execute_result"
    }
   ],
   "source": [
    "{c: np.percentile(v, 50) for c,v in latencies.items()}"
   ]
  },
  {
   "cell_type": "code",
   "execution_count": null,
   "metadata": {},
   "outputs": [],
   "source": [
    "50: \n",
    "{1: 1.048432469367981,\n",
    " 5: 2.1049283742904663,\n",
    " 15: 6.161871910095215,\n",
    " 20: 8.814648151397705}\n",
    "\n",
    "95:\n",
    "{1: 1.0595536351203918,\n",
    " 5: 3.1468580603599547,\n",
    " 15: 7.338586020469665,\n",
    " 20: 9.959573864936829}\n",
    "\n"
   ]
  },
  {
   "cell_type": "code",
   "execution_count": 71,
   "metadata": {},
   "outputs": [],
   "source": [
    "benchmark_for[1] = total"
   ]
  },
  {
   "cell_type": "code",
   "execution_count": 109,
   "metadata": {},
   "outputs": [],
   "source": [
    "from multiprocessing import Pool\n",
    "\n",
    "def s(a,b):\n",
    "    time.sleep(a)\n",
    "    return b\n",
    "\n",
    "with Pool(4) as pool:\n",
    "    x = pool.starmap(s, [(1,2), (3,4)])"
   ]
  },
  {
   "cell_type": "code",
   "execution_count": null,
   "metadata": {},
   "outputs": [],
   "source": []
  }
 ],
 "metadata": {
  "kernelspec": {
   "display_name": "Python 3",
   "language": "python",
   "name": "python3"
  },
  "language_info": {
   "codemirror_mode": {
    "name": "ipython",
    "version": 3
   },
   "file_extension": ".py",
   "mimetype": "text/x-python",
   "name": "python",
   "nbconvert_exporter": "python",
   "pygments_lexer": "ipython3",
   "version": "3.7.4"
  }
 },
 "nbformat": 4,
 "nbformat_minor": 4
}
