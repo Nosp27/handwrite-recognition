{
 "cells": [
  {
   "cell_type": "markdown",
   "metadata": {},
   "source": [
    "### Подготовим исходный датасет - из \"сырого\" текста Википедии уберем все лишнее (ссылки, знаки препинания) и разобьем на кусочки по 3 слова"
   ]
  },
  {
   "cell_type": "code",
   "execution_count": null,
   "metadata": {},
   "outputs": [],
   "source": [
    "inp = ''\n",
    "text = ''\n",
    "while inp != 'stop':\n",
    "    inp = input()\n",
    "    text += inp"
   ]
  },
  {
   "cell_type": "code",
   "execution_count": null,
   "metadata": {},
   "outputs": [],
   "source": [
    "words = text.split(' ')\n",
    "words"
   ]
  },
  {
   "cell_type": "code",
   "execution_count": null,
   "metadata": {},
   "outputs": [],
   "source": [
    "data = []\n",
    "cur = ''"
   ]
  },
  {
   "cell_type": "code",
   "execution_count": null,
   "metadata": {},
   "outputs": [],
   "source": [
    "p = 0\n",
    "for word in words:\n",
    "    if (p % 3 == 0):\n",
    "        data.append(cur)\n",
    "        cur = ''\n",
    "    cur += word + ' '\n",
    "    p += 1\n",
    "data"
   ]
  },
  {
   "cell_type": "code",
   "execution_count": null,
   "metadata": {},
   "outputs": [],
   "source": [
    "with open('data.tsv', 'w') as filehandle:  \n",
    "    for listitem in data:\n",
    "        filehandle.write('%s\\n' % listitem)"
   ]
  },
  {
   "cell_type": "markdown",
   "metadata": {},
   "source": [
    "Файл \"data.tsv\" готов к загрузке в проект"
   ]
  },
  {
   "cell_type": "code",
   "execution_count": null,
   "metadata": {},
   "outputs": [],
   "source": [
    "# !pip install ipyplot\n",
    "# !pip install toloka-kit\n",
    "\n",
    "import os\n",
    "import datetime\n",
    "import time\n",
    "\n",
    "import ipyplot\n",
    "import pandas\n",
    "\n",
    "import toloka.client as toloka\n",
    "import toloka.client.project.template_builder as tb"
   ]
  },
  {
   "cell_type": "code",
   "execution_count": null,
   "metadata": {},
   "outputs": [],
   "source": [
    "token = input(\"Enter your token:\") \n",
    "if token == '':\n",
    "    print('The token you entered may be invalid. Please try again.')\n",
    "else:\n",
    "    print('OK')"
   ]
  },
  {
   "cell_type": "code",
   "execution_count": null,
   "metadata": {},
   "outputs": [],
   "source": [
    "# Create a Toloka client instance\n",
    "# All API calls will pass through it\n",
    "toloka_client = toloka.TolokaClient(token, 'PRODUCTION')  # or switch to SANDBOX\n",
    "\n",
    "# We check the money available in your account, which also checks the validity of the OAuth token\n",
    "requester = toloka_client.get_requester()\n",
    "if requester.balance > 3.0:\n",
    "    print('У вас достаточно денег на счету - ', requester.balance)\n",
    "else:\n",
    "    print('У вас маловато денег на счету - ', requester.balance)"
   ]
  },
  {
   "cell_type": "markdown",
   "metadata": {},
   "source": [
    "### Шаг (проект) 1. Получим от толокеров написанные на бумаге фразы"
   ]
  },
  {
   "cell_type": "code",
   "execution_count": null,
   "metadata": {},
   "outputs": [],
   "source": [
    "# Датасет для первого проекта - список фраз или слов, которые толокеры напишут от руки\n",
    "dataset = pandas.read_csv('data.tsv', sep='\\t')\n",
    "dataset.head()"
   ]
  },
  {
   "cell_type": "code",
   "execution_count": null,
   "metadata": {},
   "outputs": [],
   "source": [
    "language = input()"
   ]
  },
  {
   "cell_type": "code",
   "execution_count": null,
   "metadata": {},
   "outputs": [],
   "source": [
    "# How performers will see the task\n",
    "project_interface = toloka.project.view_spec.TemplateBuilderViewSpec(\n",
    "    config=tb.TemplateBuilder(\n",
    "        view=tb.fields.MediaFileFieldV1(  # component for selecting areas in images\n",
    "            label=tb.data.InputData(path='text'),  # getter for the input image\n",
    "            data=tb.data.OutputData(path='result'),  # path for writing output data\n",
    "            validation=tb.conditions.RequiredConditionV1(),  # at least one area should be selected\n",
    "            accept={'photo' : True, 'gallery' : True, 'fileSystem' : True}\n",
    "        )\n",
    "    )\n",
    ")\n",
    "\n",
    "# You can write instructions and upload them from a file or enter them later in the web interface\n",
    "# prepared_instruction = open('instruction.html').read().strip()\n",
    "prepared_instruction = '<b>Write the given phrases on paper and download photos of them</b>'\n",
    "\n",
    "# Set up the project\n",
    "handwriting_project = toloka.project.Project(\n",
    "    assignments_issuing_type=toloka.project.Project.AssignmentsIssuingType.AUTOMATED,\n",
    "    public_name=f'Write phrases and download photos ({language})',\n",
    "    public_description='Write the given phrases on paper and download photos of them',\n",
    "    public_instructions=prepared_instruction,\n",
    "    # Set up the task: view, input, and output parameters\n",
    "    task_spec=toloka.project.task_spec.TaskSpec(\n",
    "        input_spec={'text': toloka.project.field_spec.StringSpec()},\n",
    "        output_spec={'result': toloka.project.field_spec.FileSpec()},\n",
    "        view_spec=project_interface,\n",
    "    ),\n",
    ")\n",
    "\n",
    "# Call the API to create a new project\n",
    "handwriting_project = toloka_client.create_project(handwriting_project)\n",
    "print(f'Created handwriting project with id {handwriting_project.id}')\n",
    "print(f'To view the project, go to: https://toloka.yandex.ru/requester/project/{handwriting_project.id}')"
   ]
  },
  {
   "cell_type": "code",
   "execution_count": null,
   "metadata": {},
   "outputs": [],
   "source": [
    "handwriting_skill = next(toloka_client.get_skills(name=f'Handwriting in {language} language'), None)\n",
    "if handwriting_skill:\n",
    "    print('handwriting skill already exists')\n",
    "else:\n",
    "    print('Create new handwriting skill')\n",
    "    handwriting_skill = toloka_client.create_skill(\n",
    "        name=f'Handwriting in {language} language',\n",
    "        hidden=True,\n",
    "        public_requester_description={'EN': f'Handwriting in {language} language'},\n",
    "    )\n",
    "\n",
    "verification_skill = next(toloka_client.get_skills(name=f'Handwriting in {language} language verification'), None)\n",
    "if verification_skill:\n",
    "    print('Verification skill already exists')\n",
    "else:\n",
    "    print('Create new verification skill')\n",
    "    verification_skill = toloka_client.create_skill(\n",
    "        name=f'Handwriting in {language} language verification',\n",
    "        hidden=True,\n",
    "        public_requester_description={'EN': f'Handwriting in {language} language verification skill'},\n",
    "    )"
   ]
  },
  {
   "cell_type": "code",
   "execution_count": null,
   "metadata": {},
   "outputs": [],
   "source": [
    "handwriting_pool = toloka.pool.Pool(\n",
    "    project_id=handwriting_project.id,\n",
    "    private_name='Pool 1',  # Only you can see this information.\n",
    "    may_contain_adult_content=False,\n",
    "    will_expire=datetime.datetime.utcnow() + datetime.timedelta(days=365),  # Pool will close after one year\n",
    "    reward_per_assignment=0.03,     # We set the minimum payment amount for one task page\n",
    "    auto_accept_solutions=False,    # We will only pay the performer for completing the task,\n",
    "                                    #    based on the verification results of the second project\n",
    "    auto_accept_period_day=1,       # Number of days to determine if we'll pay\n",
    "    assignment_max_duration_seconds=60*20,  # Give performers 20 minutes to complete one task\n",
    "    defaults=toloka.pool.Pool.Defaults(\n",
    "        # We don't need overlapping for handwriting tasks\n",
    "        default_overlap_for_new_task_suites=1,\n",
    "        default_overlap_for_new_tasks=1,\n",
    "    ),\n",
    ")\n",
    "\n",
    "# Set the number of tasks per page\n",
    "handwriting_pool.set_mixer_config(real_tasks_count=5, golden_tasks_count=0, training_tasks_count=0)\n",
    "# Please note that the payment amount specified when creating the pool is the amount the performer receives for completing one page of tasks.\n",
    "# If you specify 10 tasks per page above, then reward_per_assignment will be paid for completing 10 tasks.\n",
    "\n",
    "# We'll only show our tasks to English-speaking users because the description of the task is in English.\n",
    "# This means that only people who speak English will be able to accept this task.\n",
    "handwriting_pool.filter = toloka.filter.Languages.in_(language)\n",
    "\n",
    "print(handwriting_pool.private_name)"
   ]
  },
  {
   "cell_type": "code",
   "execution_count": null,
   "metadata": {},
   "outputs": [],
   "source": [
    "# The first rule in this project restricts pool access for performers who often make mistakes\n",
    "handwriting_pool.quality_control.add_action(\n",
    "    collector=toloka.collectors.AcceptanceRate(),\n",
    "    conditions=[\n",
    "        # Performer completed more than 2 tasks\n",
    "        toloka.conditions.TotalAssignmentsCount > 2,\n",
    "        # and more than 35% of their responses were rejected\n",
    "        toloka.conditions.RejectedAssignmentsRate > 35,\n",
    "    ],\n",
    "    # This action tells Toloka what to do if the condition above is True\n",
    "    # In our case, we'll restrict access for 15 days\n",
    "    # Always leave a comment: it may be useful later on\n",
    "    action=toloka.actions.RestrictionV2(\n",
    "        scope=toloka.user_restriction.UserRestriction.ALL_PROJECTS,\n",
    "        duration=15,\n",
    "        duration_unit='DAYS',\n",
    "        private_comment='Performer often makes mistakes',  # Only you will see this comment\n",
    "    )\n",
    ")"
   ]
  },
  {
   "cell_type": "code",
   "execution_count": null,
   "metadata": {},
   "outputs": [],
   "source": [
    "# The second useful rules is \"Fast responses\". It allows us to filter out performers who respond too quickly.\n",
    "handwriting_pool.quality_control.add_action(\n",
    "    # Let's monitor fast submissions for the last 5 completed task pages\n",
    "    # and define a quick response as one that takes less than 20 seconds\n",
    "    collector=toloka.collectors.AssignmentSubmitTime(history_size=5, fast_submit_threshold_seconds=20),\n",
    "    # If we see more than one fast response,\n",
    "    conditions=[toloka.conditions.FastSubmittedCount > 1],\n",
    "    # we ban the performer from all our projects for 10 days\n",
    "    action=toloka.actions.RestrictionV2(\n",
    "        scope=toloka.user_restriction.UserRestriction.ALL_PROJECTS,\n",
    "        duration=10,\n",
    "        duration_unit='DAYS',\n",
    "        private_comment='Fast responses',  # Only you will see this comment\n",
    "    )\n",
    ")"
   ]
  },
  {
   "cell_type": "code",
   "execution_count": null,
   "metadata": {},
   "outputs": [],
   "source": [
    "# Another rule we use is for automatically updating skills\n",
    "# This isn't really about quality, but rules can do a lot of useful things\n",
    "# We update the handwriting skill for performers who complete at least one task\n",
    "handwriting_pool.quality_control.add_action(\n",
    "    collector=toloka.collectors.AnswerCount(),\n",
    "    # If the performer completed at least one task,\n",
    "    conditions=[toloka.conditions.AssignmentsAcceptedCount > 0],\n",
    "    # it doesn't add to the skill, it sets the new skill to 1\n",
    "    action=toloka.actions.SetSkill(skill_id=handwriting_skill.id, skill_value=1),\n",
    ")\n",
    "\n",
    "# Recompletion of rejected assignments sends the tasks you rejected to other performers according to a specified rules.\n",
    "handwriting_pool.quality_control.add_action(\n",
    "    collector=toloka.collectors.AssignmentsAssessment(),\n",
    "    # Check if a task was rejected\n",
    "    conditions=[toloka.conditions.AssessmentEvent == toloka.conditions.AssessmentEvent.REJECT],\n",
    "    # If the condition is True, add 1 to overlap and open the pool\n",
    "    action=toloka.actions.ChangeOverlap(delta=1, open_pool=True),\n",
    ")\n",
    "\n",
    "print('Quality rules count:', len(handwriting_pool.quality_control.configs))"
   ]
  },
  {
   "cell_type": "code",
   "execution_count": null,
   "metadata": {},
   "outputs": [],
   "source": [
    "handwriting_pool = toloka_client.create_pool(handwriting_pool)\n",
    "print(f'To view this pool, visit: https://toloka.yandex.ru/requester/project/{handwriting_project.id}/pool/{handwriting_pool.id}')"
   ]
  },
  {
   "cell_type": "markdown",
   "metadata": {},
   "source": [
    "### Шаг (проект) 2. Проверка проекта 1 другими толокерами"
   ]
  },
  {
   "cell_type": "code",
   "execution_count": null,
   "metadata": {},
   "outputs": [],
   "source": [
    "verification_interface = toloka.project.view_spec.TemplateBuilderViewSpec(\n",
    "    config=tb.TemplateBuilder(\n",
    "        view=tb.view.ListViewV1(  # list of components that should be positioned from top to bottom in the ui\n",
    "            items=[\n",
    "                tb.fields.ImageAnnotationFieldV1(  # image and selected areas to verify\n",
    "                    image=tb.data.InputData(path='result'),\n",
    "                    disabled=True  # disable adding and deleting areas\n",
    "                ),\n",
    "                tb.fields.RadioGroupFieldV1(  # a component for selecting one value out of several options\n",
    "                    label='Are all traffic signs outlined correctly?',  # label above the options\n",
    "                    data=tb.data.OutputData(path='answer'),  # path for writing output data\n",
    "                    options=[\n",
    "                        tb.fields.GroupFieldOption(label='Yes', value='OK'),\n",
    "                        tb.fields.GroupFieldOption(label='No', value='BAD'),\n",
    "                    ],\n",
    "                    validation=tb.conditions.RequiredConditionV1()  # requirement to select one of the options\n",
    "                )\n",
    "            ]\n",
    "        ),\n",
    "        plugins=[\n",
    "            tb.plugins.HotkeysPluginV1( # shortcuts for selecting options using the keyboard\n",
    "                key_1=tb.actions.SetActionV1(data=tb.data.OutputData(path='result'), payload='OK'),\n",
    "                key_2=tb.actions.SetActionV1(data=tb.data.OutputData(path='result'), payload='BAD')\n",
    "            )\n",
    "        ]\n",
    "    )\n",
    ")\n",
    "\n",
    "# You can write instructions and upload them from a file or enter them later in the web interface\n",
    "# prepared_instruction = open('instruction.html').read().strip()\n",
    "verification_instruction = '''<b>Look at the image and answer the question:</b><br/>\n",
    "Are all traffic signs outlined correctly?<br/>\n",
    "If they are, click Yes.<br/>\n",
    "If they aren't, click No.<br/>\n",
    "For example, the road signs here are outlined correctly, so the correct answer is Yes.'''\n",
    "\n",
    "# Set up the project\n",
    "verification_project = toloka.project.Project(\n",
    "    assignments_issuing_type=toloka.project.Project.AssignmentsIssuingType.AUTOMATED,\n",
    "    public_name='Are the traffic signs outlined correctly?',\n",
    "    public_description='Look at the image and decide whether or not the traffic signs are outlined correctly',\n",
    "    public_instructions=verification_instruction,\n",
    "    # Set up the task: view, input, and output parameters\n",
    "    task_spec=toloka.project.task_spec.TaskSpec(\n",
    "        input_spec={\n",
    "            'text': toloka.project.field_spec.StringSpec(),\n",
    "            'result': toloka.project.field_spec.FileSpec(),\n",
    "            'assignment_id': toloka.project.field_spec.StringSpec(),\n",
    "        },\n",
    "        # We have to set allowed_values because we'll be using smart mixing to get the results of this project\n",
    "        output_spec={'result': toloka.project.field_spec.StringSpec(allowed_values=['OK', 'BAD'])},\n",
    "        view_spec=verification_interface,\n",
    "    ),\n",
    ")\n",
    "\n",
    "# Call the API to create a new project\n",
    "verification_project = toloka_client.create_project(verification_project)\n",
    "print(f'Created verification project with id {verification_project.id}')\n",
    "print(f'To view the project, go to: https://toloka.yandex.com/requester/project/{verification_project.id}')"
   ]
  },
  {
   "cell_type": "code",
   "execution_count": null,
   "metadata": {},
   "outputs": [],
   "source": [
    "verification_pool = toloka.pool.Pool(    \n",
    "    project_id=verification_project.id,\n",
    "    private_name='Pool 1. Road sign verification',  # Only you can see this information.\n",
    "    may_contain_adult_content=False,\n",
    "    will_expire=datetime.datetime.utcnow() + datetime.timedelta(days=365),  # Pool will close after one year\n",
    "    reward_per_assignment=0.01,  # We set the minimum payment amount for one task page\n",
    "                                 # By default, auto_accept_solutions is on,\n",
    "                                 # so we'll pay for all tasks\n",
    "    assignment_max_duration_seconds=60*10,  # Give performers 10 minutes to complete one task\n",
    "    defaults=toloka.pool.Pool.Defaults(\n",
    "        # We need an overlap to check the performers among themselves,\n",
    "        # and we need to set a incremental relabeling (dynamic overlap) value less than max_overlap\n",
    "        default_overlap_for_new_task_suites=2,\n",
    "    ),\n",
    ")\n",
    "\n",
    "# We'll only show our tasks to English-speaking users because the description of the task is in English.\n",
    "# We also won't allow our verification tasks to be performed by users who performed handwriting tasks\n",
    "verification_pool.filter = (\n",
    "    (toloka.filter.Languages.in_(f'{language}')) &\n",
    "    (toloka.filter.Skill(handwriting_skill.id) == None)\n",
    ")\n"
   ]
  },
  {
   "cell_type": "code",
   "execution_count": null,
   "metadata": {},
   "outputs": [],
   "source": [
    "# Set up quality control\n",
    "# Quality is based on the majority of matching responses from performers who completed the same task.\n",
    "verification_pool.quality_control.add_action(\n",
    "    collector=toloka.collectors.MajorityVote(answer_threshold=2),\n",
    "    # If a performer has 10 or more responses\n",
    "    # and the responses are correct in less than 50% of cases,\n",
    "    conditions=[\n",
    "        toloka.conditions.TotalAnswersCount > 9,\n",
    "        toloka.conditions.CorrectAnswersRate < 50,\n",
    "    ],\n",
    "    # we ban the performer from all our projects for 10 days\n",
    "    action=toloka.actions.RestrictionV2(\n",
    "        scope=toloka.user_restriction.UserRestriction.ALL_PROJECTS,\n",
    "        duration=10,\n",
    "        duration_unit='DAYS',\n",
    "        private_comment=' Doesn\\'t match the majority',  # Only you will see this comment\n",
    "    )\n",
    ")\n",
    "\n",
    "# Set up checking skills using MajorityVote\n",
    "# Depending on the percentage of correct responses, we increase the value of the performer's skill\n",
    "verification_pool.quality_control.add_action(\n",
    "    collector=toloka.collectors.MajorityVote(answer_threshold=2, history_size=10),\n",
    "    conditions=[\n",
    "        toloka.conditions.TotalAnswersCount > 2,\n",
    "    ],\n",
    "    action=toloka.actions.SetSkillFromOutputField(\n",
    "        skill_id=verification_skill.id,\n",
    "        from_field='correct_answers_rate',\n",
    "    ),\n",
    ")\n",
    "print('Quality rule count:', len(verification_pool.quality_control.configs))"
   ]
  },
  {
   "cell_type": "markdown",
   "metadata": {},
   "source": [
    "#### Задания, которые были размечены неверно, отправляем обратно в проект 1"
   ]
  },
  {
   "cell_type": "code",
   "execution_count": null,
   "metadata": {},
   "outputs": [],
   "source": [
    "# Set the task count for one page and turn task shuffling ON to enable incremental relabeling\n",
    "verification_pool.set_mixer_config(\n",
    "    real_tasks_count=10,\n",
    "    golden_tasks_count=0,\n",
    "    training_tasks_count=0,\n",
    "    mix_tasks_in_creation_order=True,  # Enable shuffle mode to use incremental relabeling\n",
    "    force_last_assignment=True,\n",
    ")\n",
    "# Create incremental relabeling\n",
    "verification_pool.set_dynamic_overlap_config(\n",
    "    type='BASIC',\n",
    "    max_overlap=5,       # Each task can be completed a maximum of 5 times\n",
    "    min_confidence=0.8,  # Percentage, where 100% = 1.0\n",
    "    answer_weight_skill_id=verification_skill.id,  # Incremental relabeling by verification skill\n",
    "    fields=[toloka.pool.DynamicOverlapConfig.Field(name='answer')],\n",
    ")\n",
    "\n",
    "verification_pool = toloka_client.create_pool(verification_pool)\n",
    "print(f'To view this pool, visit: https://toloka.yandex.com/requester/project/{verification_project.id}/pool/{verification_pool.id}')"
   ]
  },
  {
   "cell_type": "markdown",
   "metadata": {},
   "source": [
    "#### Добавим задания и запустим проекты"
   ]
  },
  {
   "cell_type": "code",
   "execution_count": null,
   "metadata": {},
   "outputs": [],
   "source": [
    "tasks = [\n",
    "    toloka.task.Task(input_values={'text': url}, pool_id=handwriting_pool.id)\n",
    "    for url in dataset['INPUT:text'].values[:20]\n",
    "]\n",
    "# Add tasks to a pool\n",
    "toloka_client.create_tasks(tasks, toloka.task.CreateTasksParameters(allow_defaults=True))\n",
    "print(f'Populated handwriting pool with {len(tasks)} tasks')\n",
    "print(f'To view this pool, visit: https://toloka.yandex.com/requester/project/{handwriting_project.id}/pool/{handwriting_pool.id}')\n",
    "\n",
    "# Open the handwriting pool\n",
    "handwriting_pool = toloka_client.open_pool(handwriting_pool.id)"
   ]
  },
  {
   "cell_type": "code",
   "execution_count": null,
   "metadata": {},
   "outputs": [],
   "source": [
    "def wait_pool_for_close(pool):\n",
    "    sleep_time = 60\n",
    "    pool = toloka_client.get_pool(pool.id)\n",
    "    while not pool.is_closed():\n",
    "        print(\n",
    "            f'   {datetime.datetime.now().strftime(\"%H:%M:%S\")}\\t'\n",
    "            f'Pool {pool.id} has status {pool.status}.'\n",
    "        )\n",
    "        time.sleep(sleep_time)\n",
    "        pool = toloka_client.get_pool(pool.id)\n",
    "\n",
    "# Wait for the handwriting pool\n",
    "print('\\nWaiting for the handwriting pool to close')\n",
    "wait_pool_for_close(handwriting_pool)\n",
    "print(f'handwriting pool {handwriting_pool.id} is finally closed!')"
   ]
  },
  {
   "cell_type": "markdown",
   "metadata": {},
   "source": [
    "Из-за специфики работы с Толокой мы не можем просто так взять и загрузить полученные от толокеров в первом проекте файлы и загрузить во второй. Надо загрузить их на Яндекс.Облако или Яндекс.Диск и получить публичные ссылки для вставки в задание"
   ]
  },
  {
   "cell_type": "code",
   "execution_count": null,
   "metadata": {},
   "outputs": [],
   "source": [
    "import requests"
   ]
  },
  {
   "cell_type": "code",
   "execution_count": null,
   "metadata": {},
   "outputs": [],
   "source": [
    "headers = {\"Authorization\": \"OAuth \" + token}"
   ]
  },
  {
   "cell_type": "code",
   "execution_count": null,
   "metadata": {},
   "outputs": [],
   "source": [
    "req = requests.get(\"https://toloka.yandex.ru/api/v1/attachments?pool_id={}\".format(pool.id), headers=headers)"
   ]
  },
  {
   "cell_type": "code",
   "execution_count": null,
   "metadata": {},
   "outputs": [],
   "source": [
    "import json"
   ]
  },
  {
   "cell_type": "code",
   "execution_count": null,
   "metadata": {},
   "outputs": [],
   "source": [
    "req.json()['items']"
   ]
  },
  {
   "cell_type": "code",
   "execution_count": null,
   "metadata": {},
   "outputs": [],
   "source": [
    "import yadisk"
   ]
  },
  {
   "cell_type": "code",
   "execution_count": null,
   "metadata": {},
   "outputs": [],
   "source": [
    "disk_token = input()\n",
    "disk_headers = {\"Authorization\": \"OAuth \" + disk_token}\n",
    "y = yadisk.YaDisk(token=disk_token)"
   ]
  },
  {
   "cell_type": "code",
   "execution_count": null,
   "metadata": {},
   "outputs": [],
   "source": [
    "urls = []\n",
    "for file in data['items']:\n",
    "    fileid = file['id']\n",
    "    req = requests.get(\"https://toloka.yandex.ru/api/v1/attachments/{}/download\".format(fileid), \"{}.jpg\".format(fileid),\n",
    "                       headers=headers)\n",
    "    open(f'{fileid}.jpg', 'wb').write(req.content)\n",
    "    y.upload(f'{fileid}.jpg', f'{fileid}.jpg')\n",
    "    req_put = requests.put(\"https://cloud-api.yandex.net/v1/disk/resources/publish?path=%2Fsample.jpg\", headers=disk_headers)\n",
    "    req_get = requests.get('https://cloud-api.yandex.net/v1/disk/resources?path=disk%3A%2Fsample.jpg', headers=disk_headers)\n",
    "    urls.append((req_get.json()['public_url'],  fileid))"
   ]
  },
  {
   "cell_type": "markdown",
   "metadata": {},
   "source": [
    "#### Дальше запускаем только после закрытия пула!"
   ]
  },
  {
   "cell_type": "code",
   "execution_count": null,
   "metadata": {},
   "outputs": [],
   "source": [
    "def prepare_verification_tasks():\n",
    "    verification_tasks = []  # Tasks that we will send for verification\n",
    "    # Create and store new tasks\n",
    "    for assignment in urls:\n",
    "        verification_tasks.append(\n",
    "            toloka.task.Task(\n",
    "                input_values={\n",
    "                    'text': assignment.tasks[0].input_values['text'],\n",
    "                    'image': assignment.solutions[0].output_values['result'],\n",
    "                    'assignment_id': assignment.id,\n",
    "                },\n",
    "                pool_id=verification_pool.id,\n",
    "            )\n",
    "        )\n",
    "    print(f'Generated {len(verification_tasks)} new verification tasks')\n",
    "    return verification_tasks\n",
    "\n",
    "\n",
    "def run_verification_pool(verification_tasks):\n",
    "    verification_tasks_result = toloka_client.create_tasks(\n",
    "        verification_tasks,\n",
    "        toloka.task.CreateTasksParameters(allow_defaults=True)\n",
    "    )\n",
    "    # We'll store our verification_task-handwriting_assignments references. We'll need it later.\n",
    "    task_to_assignment = {}\n",
    "    for task in verification_tasks_result.items.values():\n",
    "        task_to_assignment[task.id] = task.input_values['assignment_id']\n",
    "\n",
    "    # Open the verification pool\n",
    "    pool = toloka_client.open_pool(verification_pool.id)\n",
    "    print(f'Verification pool status - {pool.status}')\n",
    "    return task_to_assignment\n",
    "\n",
    "# Prepare the tasks\n",
    "verification_tasks = prepare_verification_tasks()\n",
    "# Add it to the pool and run the pool\n",
    "task_to_assignment = run_verification_pool(verification_tasks)"
   ]
  },
  {
   "cell_type": "code",
   "execution_count": null,
   "metadata": {},
   "outputs": [],
   "source": [
    "print('\\nWaiting for verification pool to close')\n",
    "wait_pool_for_close(verification_pool)\n",
    "print(f'Verification pool {verification_pool.id} is finally closed!')"
   ]
  },
  {
   "cell_type": "markdown",
   "metadata": {},
   "source": [
    "#### Агрегация по необходимости"
   ]
  },
  {
   "cell_type": "code",
   "execution_count": null,
   "metadata": {},
   "outputs": [],
   "source": [
    "def get_aggregation_results():\n",
    "    print('Start aggregation in the verification pool')\n",
    "    aggregation_operation = toloka_client.aggregate_solutions_by_pool(\n",
    "        type=toloka.aggregation.AggregatedSolutionType.WEIGHTED_DYNAMIC_OVERLAP,\n",
    "        pool_id=verification_pool.id,   # Aggregate in this pool\n",
    "        answer_weight_skill_id=verification_skill.id,   # Aggregate by this skill\n",
    "        fields=[toloka.aggregation.PoolAggregatedSolutionRequest.Field(name='result')]  # Aggregate this field\n",
    "    )\n",
    "\n",
    "    # This may take some time\n",
    "    aggregation_operation = toloka_client.wait_operation(aggregation_operation)\n",
    "    print('Results aggregated')\n",
    "\n",
    "    # Get aggregated results\n",
    "    # Set a limit to show how to iterate over aggregation results\n",
    "    aggregation_result = toloka_client.find_aggregated_solutions(aggregation_operation.id, limit=5)\n",
    "    verification_results = aggregation_result.items\n",
    "    # If we have more results, let's get them\n",
    "    while aggregation_result.has_more:\n",
    "        aggregation_result = toloka_client.find_aggregated_solutions(\n",
    "            aggregation_operation.id,\n",
    "            # We have to establish which id we want to get results from (or else we'll loop back)\n",
    "            # This is usually the last item id in the previous request\n",
    "            task_id_gt=aggregation_result.items[len(aggregation_result.items) - 1].task_id,\n",
    "        )\n",
    "        verification_results = verification_results + aggregation_result.items\n",
    "    return verification_results\n",
    "\n",
    "def set_handwriting_status(verification_results):\n",
    "    # Reject or accept tasks in the handwriting pool\n",
    "    print('Started adding results to handwriting tasks')\n",
    "    for r in verification_results:\n",
    "        # We need to reject or accept only previously stored assignments\n",
    "        # If we try to accept or reject an already accepted assignment, an exception will be thrown\n",
    "        if r.task_id not in task_to_assignment:\n",
    "            continue\n",
    "        # Find assignment_id in the input by task_id\n",
    "        assignment_id = task_to_assignment[r.task_id]\n",
    "        if r.output_values['result'] == 'OK':\n",
    "            toloka_client.accept_assignment(assignment_id, \"Well done!\")\n",
    "        else:\n",
    "            toloka_client.reject_assignment(assignment_id, 'The object wasn\\'t selected or was selected incorrectly.')\n",
    "    print('Finished adding results to handwriting tasks')\n",
    "\n",
    "\n",
    "# Aggregation operation\n",
    "verification_results = get_aggregation_results()\n",
    "# Reject or accept tasks in the handwriting pool\n",
    "set_handwriting_status(verification_results)"
   ]
  },
  {
   "cell_type": "code",
   "execution_count": null,
   "metadata": {},
   "outputs": [],
   "source": [
    "while True:    \n",
    "    print('\\nWaiting for handwriting pool to close')\n",
    "    wait_pool_for_close(handwriting_pool)\n",
    "    print(f'handwriting pool {handwriting_pool.id} is finally closed!')\n",
    "\n",
    "    # Preparing tasks\n",
    "    verification_tasks = prepare_verification_tasks()\n",
    "\n",
    "    # Make sure all the tasks are done\n",
    "    if len(verification_tasks) == 0:\n",
    "        print('All the tasks in our project are done')\n",
    "        break\n",
    "\n",
    "    # Add it to the pool and run the pool\n",
    "    task_to_assignment = run_verification_pool(verification_tasks)\n",
    "\n",
    "    print('\\nWaiting for verification pool to close')\n",
    "    wait_pool_for_close(verification_pool)\n",
    "    print(f'Verification pool {verification_pool.id} is finally closed!')\n",
    "\n",
    "    # Aggregation operation\n",
    "    verification_results = get_aggregation_results()\n",
    "    # Reject or accept tasks in the handwriting pool\n",
    "    set_handwriting_status(verification_results)\n",
    "\n",
    "\n",
    "print(f'Results received at {datetime.datetime.now()}')"
   ]
  },
  {
   "cell_type": "markdown",
   "metadata": {},
   "source": [
    "#### Далее - дополнительная часть по необходимости. В зависимости от содержания первого датасета (количества слов в каждой фразе) и цели сбора разметки, нам может не требоваться выделение отдельных слов рамками. А так тут снова два проекта - сама разметка и проверка корректности"
   ]
  },
  {
   "cell_type": "markdown",
   "metadata": {},
   "source": [
    "### Шаг (проект) 3. Получим от толокеров разметку слов на изображении рамками"
   ]
  },
  {
   "cell_type": "code",
   "execution_count": null,
   "metadata": {},
   "outputs": [],
   "source": [
    "# Датасет для третьего проекта - список ссылок на изображения\n",
    "dataset = pandas.read_csv('dataset.tsv', sep='\\t')\n",
    "dataset.head()"
   ]
  },
  {
   "cell_type": "markdown",
   "metadata": {},
   "source": [
    "#### Интерфейс проекта и все такое"
   ]
  },
  {
   "cell_type": "code",
   "execution_count": null,
   "metadata": {},
   "outputs": [],
   "source": [
    "# How performers will see the task\n",
    "project_interface = toloka.project.view_spec.TemplateBuilderViewSpec(\n",
    "    config=tb.TemplateBuilder(\n",
    "        view=tb.fields.ImageAnnotationFieldV1(  # component for selecting areas in images\n",
    "            image=tb.data.InputData(path='image'),  # getter for the input image\n",
    "            data=tb.data.OutputData(path='result'),  # path for writing output data\n",
    "            shapes={tb.fields.ImageAnnotationFieldV1.Shape.RECTANGLE: True},  # allow to select only rectangular areas\n",
    "            validation=tb.conditions.RequiredConditionV1()  # at least one area should be selected\n",
    "        )\n",
    "    )\n",
    ")\n",
    "\n",
    "# You can write instructions and upload them from a file or enter them later in the web interface\n",
    "# prepared_instruction = open('instruction.html').read().strip()\n",
    "prepared_instruction = '<b>Draw a rectangle around all the traffic signs in the image.</b>'\n",
    "\n",
    "# Set up the project\n",
    "segmentation_project = toloka.project.Project(\n",
    "    assignments_issuing_type=toloka.project.Project.AssignmentsIssuingType.AUTOMATED,\n",
    "    public_name='Outline the traffic signs in the image',\n",
    "    public_description='Outline all traffic signs in the image with a rectangle',\n",
    "    public_instructions=prepared_instruction,\n",
    "    # Set up the task: view, input, and output parameters\n",
    "    task_spec=toloka.project.task_spec.TaskSpec(\n",
    "        input_spec={'image': toloka.project.field_spec.UrlSpec()},\n",
    "        output_spec={'result': toloka.project.field_spec.JsonSpec()},\n",
    "        view_spec=project_interface,\n",
    "    ),\n",
    ")\n",
    "\n",
    "# Call the API to create a new project\n",
    "segmentation_project = toloka_client.create_project(segmentation_project)\n",
    "print(f'Created segmentation project with id {segmentation_project.id}')\n",
    "print(f'To view the project, go to: https://toloka.yandex.com/requester/project/{segmentation_project.id}')"
   ]
  },
  {
   "cell_type": "markdown",
   "metadata": {},
   "source": [
    "#### Снова два навыка - для разделения толокеров, чтобы исполнители в 3 и 4 проектах не пересекались и никто не проверял сам себя, и навык качества"
   ]
  },
  {
   "cell_type": "code",
   "execution_count": null,
   "metadata": {},
   "outputs": [],
   "source": [
    "segmentation_skill = next(toloka_client.get_skills(name='Area selection of road signs'), None)\n",
    "if segmentation_skill:\n",
    "    print('Segmentation skill already exists')\n",
    "else:\n",
    "    print('Create new segmentation skill')\n",
    "    segmentation_skill = toloka_client.create_skill(\n",
    "        name='Area selection of road signs',\n",
    "        hidden=True,\n",
    "        public_requester_description={'EN': 'Performer is annotating road signs'},\n",
    "    )\n",
    "\n",
    "verification_skill = next(toloka_client.get_skills(name='Segmentation verification'), None)\n",
    "if verification_skill:\n",
    "    print('Verification skill already exists')\n",
    "else:\n",
    "    print('Create new verification skill')\n",
    "    verification_skill = toloka_client.create_skill(\n",
    "        name='Segmentation verification',\n",
    "        hidden=True,\n",
    "        public_requester_description={'EN': 'How good a performer is at verifying segmentation tasks'},\n",
    "    )"
   ]
  },
  {
   "cell_type": "markdown",
   "metadata": {},
   "source": [
    "#### Подготовка пула"
   ]
  },
  {
   "cell_type": "code",
   "execution_count": null,
   "metadata": {},
   "outputs": [],
   "source": [
    "segmentation_pool = toloka.pool.Pool(\n",
    "    project_id=segmentation_project.id,\n",
    "    private_name='Pool 1',  # Only you can see this information.\n",
    "    may_contain_adult_content=False,\n",
    "    will_expire=datetime.datetime.utcnow() + datetime.timedelta(days=365),  # Pool will close after one year\n",
    "    reward_per_assignment=0.01,     # We set the minimum payment amount for one task page\n",
    "    auto_accept_solutions=False,    # We will only pay the performer for completing the task,\n",
    "                                    #    based on the verification results of the second project\n",
    "    auto_accept_period_day=1,       # Number of days to determine if we'll pay\n",
    "    assignment_max_duration_seconds=60*20,  # Give performers 20 minutes to complete one task\n",
    "    defaults=toloka.pool.Pool.Defaults(\n",
    "        # We don't need overlapping for segmentation tasks\n",
    "        default_overlap_for_new_task_suites=1,\n",
    "        default_overlap_for_new_tasks=1,\n",
    "    ),\n",
    ")\n",
    "\n",
    "# Set the number of tasks per page\n",
    "segmentation_pool.set_mixer_config(real_tasks_count=1, golden_tasks_count=0, training_tasks_count=0)\n",
    "# Please note that the payment amount specified when creating the pool is the amount the performer receives for completing one page of tasks.\n",
    "# If you specify 10 tasks per page above, then reward_per_assignment will be paid for completing 10 tasks.\n",
    "\n",
    "# We'll only show our tasks to English-speaking users because the description of the task is in English.\n",
    "# This means that only people who speak English will be able to accept this task.\n",
    "segmentation_pool.filter = toloka.filter.Languages.in_('EN')\n",
    "\n",
    "print(segmentation_pool.private_name)"
   ]
  },
  {
   "cell_type": "markdown",
   "metadata": {},
   "source": [
    "#### Настройка контроля качества"
   ]
  },
  {
   "cell_type": "code",
   "execution_count": null,
   "metadata": {},
   "outputs": [],
   "source": [
    "# The first rule in this project restricts pool access for performers who often make mistakes\n",
    "segmentation_pool.quality_control.add_action(\n",
    "    collector=toloka.collectors.AcceptanceRate(),\n",
    "    conditions=[\n",
    "        # Performer completed more than 2 tasks\n",
    "        toloka.conditions.TotalAssignmentsCount > 2,\n",
    "        # and more than 35% of their responses were rejected\n",
    "        toloka.conditions.RejectedAssignmentsRate > 35,\n",
    "    ],\n",
    "    # This action tells Toloka what to do if the condition above is True\n",
    "    # In our case, we'll restrict access for 15 days\n",
    "    # Always leave a comment: it may be useful later on\n",
    "    action=toloka.actions.RestrictionV2(\n",
    "        scope=toloka.user_restriction.UserRestriction.ALL_PROJECTS,\n",
    "        duration=15,\n",
    "        duration_unit='DAYS',\n",
    "        private_comment='Performer often make mistakes',  # Only you will see this comment\n",
    "    )\n",
    ")"
   ]
  },
  {
   "cell_type": "code",
   "execution_count": null,
   "metadata": {},
   "outputs": [],
   "source": [
    "# The second useful rules is \"Fast responses\". It allows us to filter out performers who respond too quickly.\n",
    "segmentation_pool.quality_control.add_action(\n",
    "    # Let's monitor fast submissions for the last 5 completed task pages\n",
    "    # and define a quick response as one that takes less than 20 seconds\n",
    "    collector=toloka.collectors.AssignmentSubmitTime(history_size=5, fast_submit_threshold_seconds=20),\n",
    "    # If we see more than one fast response,\n",
    "    conditions=[toloka.conditions.FastSubmittedCount > 1],\n",
    "    # we ban the performer from all our projects for 10 days\n",
    "    action=toloka.actions.RestrictionV2(\n",
    "        scope=toloka.user_restriction.UserRestriction.ALL_PROJECTS,\n",
    "        duration=10,\n",
    "        duration_unit='DAYS',\n",
    "        private_comment='Fast responses',  # Only you will see this comment\n",
    "    )\n",
    ")"
   ]
  },
  {
   "cell_type": "code",
   "execution_count": null,
   "metadata": {},
   "outputs": [],
   "source": [
    "# Another rule we use is for automatically updating skills\n",
    "# This isn't really about quality, but rules can do a lot of useful things\n",
    "# We update the segmentation skill for performers who complete at least one task\n",
    "segmentation_pool.quality_control.add_action(\n",
    "    collector=toloka.collectors.AnswerCount(),\n",
    "    # If the performer completed at least one task,\n",
    "    conditions=[toloka.conditions.AssignmentsAcceptedCount > 0],\n",
    "    # it doesn't add to the skill, it sets the new skill to 1\n",
    "    action=toloka.actions.SetSkill(skill_id=segmentation_skill.id, skill_value=1),\n",
    ")\n",
    "\n",
    "# Recompletion of rejected assignments sends the tasks you rejected to other performers according to a specified rules.\n",
    "segmentation_pool.quality_control.add_action(\n",
    "    collector=toloka.collectors.AssignmentsAssessment(),\n",
    "    # Check if a task was rejected\n",
    "    conditions=[toloka.conditions.AssessmentEvent == toloka.conditions.AssessmentEvent.REJECT],\n",
    "    # If the condition is True, add 1 to overlap and open the pool\n",
    "    action=toloka.actions.ChangeOverlap(delta=1, open_pool=True),\n",
    ")\n",
    "\n",
    "print('Quality rules count:', len(segmentation_pool.quality_control.configs))"
   ]
  },
  {
   "cell_type": "code",
   "execution_count": null,
   "metadata": {},
   "outputs": [],
   "source": [
    "segmentation_pool = toloka_client.create_pool(segmentation_pool)\n",
    "print(f'To view this pool, visit: https://toloka.yandex.com/requester/project/{segmentation_project.id}/pool/{segmentation_pool.id}')"
   ]
  },
  {
   "cell_type": "markdown",
   "metadata": {},
   "source": [
    "### Шаг (проект) 4. Проверка проекта 3 другими толокерами"
   ]
  },
  {
   "cell_type": "code",
   "execution_count": null,
   "metadata": {},
   "outputs": [],
   "source": [
    "verification_interface = toloka.project.view_spec.TemplateBuilderViewSpec(\n",
    "    config=tb.TemplateBuilder(\n",
    "        view=tb.view.ListViewV1(  # list of components that should be positioned from top to bottom in the ui\n",
    "            items=[\n",
    "                tb.fields.ImageAnnotationFieldV1(  # image and selected areas to verify\n",
    "                    image=tb.data.InputData(path='image'),\n",
    "                    data=tb.data.InternalData(path='selection',\n",
    "                                              default=tb.data.InputData(path='selection')),  # using the input field as default value to display the selected areas\n",
    "                    disabled=True  # disable adding and deleting areas\n",
    "                ),\n",
    "                tb.fields.RadioGroupFieldV1(  # a component for selecting one value out of several options\n",
    "                    label='Are all traffic signs outlined correctly?',  # label above the options\n",
    "                    data=tb.data.OutputData(path='result'),  # path for writing output data\n",
    "                    options=[\n",
    "                        tb.fields.GroupFieldOption(label='Yes', value='OK'),\n",
    "                        tb.fields.GroupFieldOption(label='No', value='BAD'),\n",
    "                    ],\n",
    "                    validation=tb.conditions.RequiredConditionV1()  # requirement to select one of the options\n",
    "                )\n",
    "            ]\n",
    "        ),\n",
    "        plugins=[\n",
    "            tb.plugins.HotkeysPluginV1( # shortcuts for selecting options using the keyboard\n",
    "                key_1=tb.actions.SetActionV1(data=tb.data.OutputData(path='result'), payload='OK'),\n",
    "                key_2=tb.actions.SetActionV1(data=tb.data.OutputData(path='result'), payload='BAD')\n",
    "            )\n",
    "        ]\n",
    "    )\n",
    ")\n",
    "\n",
    "# You can write instructions and upload them from a file or enter them later in the web interface\n",
    "# prepared_instruction = open('instruction.html').read().strip()\n",
    "verification_instruction = '''<b>Look at the image and answer the question:</b><br/>\n",
    "Are all traffic signs outlined correctly?<br/>\n",
    "If they are, click Yes.<br/>\n",
    "If they aren't, click No.<br/>\n",
    "For example, the road signs here are outlined correctly, so the correct answer is Yes.'''\n",
    "\n",
    "# Set up the project\n",
    "verification_project = toloka.project.Project(\n",
    "    assignments_issuing_type=toloka.project.Project.AssignmentsIssuingType.AUTOMATED,\n",
    "    public_name='Are the traffic signs outlined correctly?',\n",
    "    public_description='Look at the image and decide whether or not the traffic signs are outlined correctly',\n",
    "    public_instructions=verification_instruction,\n",
    "    # Set up the task: view, input, and output parameters\n",
    "    task_spec=toloka.project.task_spec.TaskSpec(\n",
    "        input_spec={\n",
    "            'image': toloka.project.field_spec.UrlSpec(),\n",
    "            'selection': toloka.project.field_spec.JsonSpec(),\n",
    "            'assignment_id': toloka.project.field_spec.StringSpec(),\n",
    "        },\n",
    "        # We have to set allowed_values because we'll be using smart mixing to get the results of this project\n",
    "        output_spec={'result': toloka.project.field_spec.StringSpec(allowed_values=['OK', 'BAD'])},\n",
    "        view_spec=verification_interface,\n",
    "    ),\n",
    ")\n",
    "\n",
    "# Call the API to create a new project\n",
    "verification_project = toloka_client.create_project(verification_project)\n",
    "print(f'Created verification project with id {verification_project.id}')\n",
    "print(f'To view the project, go to: https://toloka.yandex.com/requester/project/{verification_project.id}')"
   ]
  },
  {
   "cell_type": "code",
   "execution_count": null,
   "metadata": {},
   "outputs": [],
   "source": [
    "verification_pool = toloka.pool.Pool(    \n",
    "    project_id=verification_project.id,\n",
    "    private_name='Pool 1. Road sign verification',  # Only you can see this information.\n",
    "    may_contain_adult_content=False,\n",
    "    will_expire=datetime.datetime.utcnow() + datetime.timedelta(days=365),  # Pool will close after one year\n",
    "    reward_per_assignment=0.01,  # We set the minimum payment amount for one task page\n",
    "                                 # By default, auto_accept_solutions is on,\n",
    "                                 # so we'll pay for all tasks\n",
    "    assignment_max_duration_seconds=60*10,  # Give performers 10 minutes to complete one task\n",
    "    defaults=toloka.pool.Pool.Defaults(\n",
    "        # We need an overlap to check the performers among themselves,\n",
    "        # and we need to set a incremental relabeling (dynamic overlap) value less than max_overlap\n",
    "        default_overlap_for_new_task_suites=2,\n",
    "    ),\n",
    ")\n",
    "\n",
    "# We'll only show our tasks to English-speaking users because the description of the task is in English.\n",
    "# We also won't allow our verification tasks to be performed by users who performed segmentation tasks\n",
    "verification_pool.filter = (\n",
    "    (toloka.filter.Languages.in_('EN')) &\n",
    "    (toloka.filter.Skill(segmentation_skill.id) == None)\n",
    ")\n"
   ]
  },
  {
   "cell_type": "code",
   "execution_count": null,
   "metadata": {},
   "outputs": [],
   "source": [
    "# Set up quality control\n",
    "# Quality is based on the majority of matching responses from performers who completed the same task.\n",
    "verification_pool.quality_control.add_action(\n",
    "    collector=toloka.collectors.MajorityVote(answer_threshold=2),\n",
    "    # If a performer has 10 or more responses\n",
    "    # and the responses are correct in less than 50% of cases,\n",
    "    conditions=[\n",
    "        toloka.conditions.TotalAnswersCount > 9,\n",
    "        toloka.conditions.CorrectAnswersRate < 50,\n",
    "    ],\n",
    "    # we ban the performer from all our projects for 10 days\n",
    "    action=toloka.actions.RestrictionV2(\n",
    "        scope=toloka.user_restriction.UserRestriction.ALL_PROJECTS,\n",
    "        duration=10,\n",
    "        duration_unit='DAYS',\n",
    "        private_comment=' Doesn\\'t match the majority',  # Only you will see this comment\n",
    "    )\n",
    ")\n",
    "\n",
    "# Set up checking skills using MajorityVote\n",
    "# Depending on the percentage of correct responses, we increase the value of the performer's skill\n",
    "verification_pool.quality_control.add_action(\n",
    "    collector=toloka.collectors.MajorityVote(answer_threshold=2, history_size=10),\n",
    "    conditions=[\n",
    "        toloka.conditions.TotalAnswersCount > 2,\n",
    "    ],\n",
    "    action=toloka.actions.SetSkillFromOutputField(\n",
    "        skill_id=verification_skill.id,\n",
    "        from_field='correct_answers_rate',\n",
    "    ),\n",
    ")\n",
    "print('Quality rule count:', len(verification_pool.quality_control.configs))"
   ]
  },
  {
   "cell_type": "markdown",
   "metadata": {},
   "source": [
    "#### Задания, которые были размечены неверно, отправляем обратно в проект 3"
   ]
  },
  {
   "cell_type": "code",
   "execution_count": null,
   "metadata": {},
   "outputs": [],
   "source": [
    "# Set the task count for one page and turn task shuffling ON to enable incremental relabeling\n",
    "verification_pool.set_mixer_config(\n",
    "    real_tasks_count=10,\n",
    "    golden_tasks_count=0,\n",
    "    training_tasks_count=0,\n",
    "    mix_tasks_in_creation_order=True,  # Enable shuffle mode to use incremental relabeling\n",
    "    force_last_assignment=True,\n",
    ")\n",
    "# Create incremental relabeling\n",
    "verification_pool.set_dynamic_overlap_config(\n",
    "    type='BASIC',\n",
    "    max_overlap=5,       # Each task can be completed a maximum of 5 times\n",
    "    min_confidence=0.8,  # Percentage, where 100% = 1.0\n",
    "    answer_weight_skill_id=verification_skill.id,  # Incremental relabeling by verification skill\n",
    "    fields=[toloka.pool.DynamicOverlapConfig.Field(name='result')],\n",
    ")\n",
    "\n",
    "verification_pool = toloka_client.create_pool(verification_pool)\n",
    "print(f'To view this pool, visit: https://toloka.yandex.com/requester/project/{verification_project.id}/pool/{verification_pool.id}')"
   ]
  },
  {
   "cell_type": "markdown",
   "metadata": {},
   "source": [
    "#### Добавим задания и запустим проекты"
   ]
  },
  {
   "cell_type": "code",
   "execution_count": null,
   "metadata": {},
   "outputs": [],
   "source": [
    "tasks = [\n",
    "    toloka.task.Task(input_values={'image': url}, pool_id=segmentation_pool.id)\n",
    "    for url in dataset['image'].values[:20]\n",
    "]\n",
    "# Add tasks to a pool\n",
    "toloka_client.create_tasks(tasks, toloka.task.CreateTasksParameters(allow_defaults=True))\n",
    "print(f'Populated segmentation pool with {len(tasks)} tasks')\n",
    "print(f'To view this pool, visit: https://toloka.yandex.com/requester/project/{segmentation_project.id}/pool/{segmentation_pool.id}')\n",
    "\n",
    "# Open the segmentation pool\n",
    "segmentation_pool = toloka_client.open_pool(segmentation_pool.id)"
   ]
  },
  {
   "cell_type": "code",
   "execution_count": null,
   "metadata": {},
   "outputs": [],
   "source": [
    "def wait_pool_for_close(pool):\n",
    "    sleep_time = 60\n",
    "    pool = toloka_client.get_pool(pool.id)\n",
    "    while not pool.is_closed():\n",
    "        print(\n",
    "            f'   {datetime.datetime.now().strftime(\"%H:%M:%S\")}\\t'\n",
    "            f'Pool {pool.id} has status {pool.status}.'\n",
    "        )\n",
    "        time.sleep(sleep_time)\n",
    "        pool = toloka_client.get_pool(pool.id)\n",
    "\n",
    "# Wait for the segmentation pool\n",
    "print('\\nWaiting for the segmentation pool to close')\n",
    "wait_pool_for_close(segmentation_pool)\n",
    "print(f'Segmentation pool {segmentation_pool.id} is finally closed!')"
   ]
  },
  {
   "cell_type": "markdown",
   "metadata": {},
   "source": [
    "#### Дальше запускаем только после закрытия пула!"
   ]
  },
  {
   "cell_type": "code",
   "execution_count": null,
   "metadata": {},
   "outputs": [],
   "source": [
    "def prepare_verification_tasks():\n",
    "    verification_tasks = []  # Tasks that we will send for verification\n",
    "    request = toloka.search_requests.AssignmentSearchRequest(\n",
    "        status=toloka.assignment.Assignment.SUBMITTED,  # Only take completed tasks that haven't been accepted or rejected\n",
    "        pool_id=segmentation_pool.id,\n",
    "    )\n",
    "    # Create and store new tasks\n",
    "    for assignment in toloka_client.get_assignments(request):\n",
    "        verification_tasks.append(\n",
    "            toloka.task.Task(\n",
    "                input_values={\n",
    "                    'image': assignment.tasks[0].input_values['image'],\n",
    "                    'selection': assignment.solutions[0].output_values['result'],\n",
    "                    'assignment_id': assignment.id,\n",
    "                },\n",
    "                pool_id=verification_pool.id,\n",
    "            )\n",
    "        )\n",
    "    print(f'Generate {len(verification_tasks)} new verification tasks')\n",
    "    return verification_tasks\n",
    "\n",
    "\n",
    "def run_verification_pool(verification_tasks):\n",
    "    verification_tasks_result = toloka_client.create_tasks(\n",
    "        verification_tasks,\n",
    "        toloka.task.CreateTasksParameters(allow_defaults=True)\n",
    "    )\n",
    "    # We'll store our verification_task-segmentation_assignments references. We'll need it later.\n",
    "    task_to_assignment = {}\n",
    "    for task in verification_tasks_result.items.values():\n",
    "        task_to_assignment[task.id] = task.input_values['assignment_id']\n",
    "\n",
    "    # Open the verification pool\n",
    "    pool = toloka_client.open_pool(verification_pool.id)\n",
    "    print(f'Verification pool status - {pool.status}')\n",
    "    return task_to_assignment\n",
    "\n",
    "# Prepare the tasks\n",
    "verification_tasks = prepare_verification_tasks()\n",
    "# Add it to the pool and run the pool\n",
    "task_to_assignment = run_verification_pool(verification_tasks)"
   ]
  },
  {
   "cell_type": "code",
   "execution_count": null,
   "metadata": {},
   "outputs": [],
   "source": [
    "print('\\nWaiting for verification pool to close')\n",
    "wait_pool_for_close(verification_pool)\n",
    "print(f'Verification pool {verification_pool.id} is finally closed!')"
   ]
  },
  {
   "cell_type": "markdown",
   "metadata": {},
   "source": [
    "#### Агрегация по необходимости"
   ]
  },
  {
   "cell_type": "code",
   "execution_count": null,
   "metadata": {},
   "outputs": [],
   "source": [
    "def get_aggregation_results():\n",
    "    print('Start aggregation in the verification pool')\n",
    "    aggregation_operation = toloka_client.aggregate_solutions_by_pool(\n",
    "        type=toloka.aggregation.AggregatedSolutionType.WEIGHTED_DYNAMIC_OVERLAP,\n",
    "        pool_id=verification_pool.id,   # Aggregate in this pool\n",
    "        answer_weight_skill_id=verification_skill.id,   # Aggregate by this skill\n",
    "        fields=[toloka.aggregation.PoolAggregatedSolutionRequest.Field(name='result')]  # Aggregate this field\n",
    "    )\n",
    "\n",
    "    # This may take some time\n",
    "    aggregation_operation = toloka_client.wait_operation(aggregation_operation)\n",
    "    print('Results aggregated')\n",
    "\n",
    "    # Get aggregated results\n",
    "    # Set a limit to show how to iterate over aggregation results\n",
    "    aggregation_result = toloka_client.find_aggregated_solutions(aggregation_operation.id, limit=5)\n",
    "    verification_results = aggregation_result.items\n",
    "    # If we have more results, let's get them\n",
    "    while aggregation_result.has_more:\n",
    "        aggregation_result = toloka_client.find_aggregated_solutions(\n",
    "            aggregation_operation.id,\n",
    "            # We have to establish which id we want to get results from (or else we'll loop back)\n",
    "            # This is usually the last item id in the previous request\n",
    "            task_id_gt=aggregation_result.items[len(aggregation_result.items) - 1].task_id,\n",
    "        )\n",
    "        verification_results = verification_results + aggregation_result.items\n",
    "    return verification_results\n",
    "\n",
    "def set_segmentation_status(verification_results):\n",
    "    # Reject or accept tasks in the segmentation pool\n",
    "    print('Started adding results to segmentation tasks')\n",
    "    for r in verification_results:\n",
    "        # We need to reject or accept only previously stored assignments\n",
    "        # If we try to accept or reject an already accepted assignment, an exception will be thrown\n",
    "        if r.task_id not in task_to_assignment:\n",
    "            continue\n",
    "        # Find assignment_id in the input by task_id\n",
    "        assignment_id = task_to_assignment[r.task_id]\n",
    "        if r.output_values['result'] == 'OK':\n",
    "            toloka_client.accept_assignment(assignment_id, \"Well done!\")\n",
    "        else:\n",
    "            toloka_client.reject_assignment(assignment_id, 'The object wasn\\'t selected or was selected incorrectly.')\n",
    "    print('Finished adding results to segmentation tasks')\n",
    "\n",
    "\n",
    "# Aggregation operation\n",
    "verification_results = get_aggregation_results()\n",
    "# Reject or accept tasks in the segmentation pool\n",
    "set_segmentation_status(verification_results)"
   ]
  },
  {
   "cell_type": "code",
   "execution_count": null,
   "metadata": {},
   "outputs": [],
   "source": [
    "while True:    \n",
    "    print('\\nWaiting for segmentation pool to close')\n",
    "    wait_pool_for_close(segmentation_pool)\n",
    "    print(f'Segmentation pool {segmentation_pool.id} is finally closed!')\n",
    "\n",
    "    # Preparing tasks\n",
    "    verification_tasks = prepare_verification_tasks()\n",
    "\n",
    "    # Make sure all the tasks are done\n",
    "    if len(verification_tasks) == 0:\n",
    "        print('All the tasks in our project are done')\n",
    "        break\n",
    "\n",
    "    # Add it to the pool and run the pool\n",
    "    task_to_assignment = run_verification_pool(verification_tasks)\n",
    "\n",
    "    print('\\nWaiting for verification pool to close')\n",
    "    wait_pool_for_close(verification_pool)\n",
    "    print(f'Verification pool {verification_pool.id} is finally closed!')\n",
    "\n",
    "    # Aggregation operation\n",
    "    verification_results = get_aggregation_results()\n",
    "    # Reject or accept tasks in the segmentation pool\n",
    "    set_segmentation_status(verification_results)\n",
    "\n",
    "\n",
    "print(f'Results received at {datetime.datetime.now()}')"
   ]
  }
 ],
 "metadata": {
  "kernelspec": {
   "display_name": "Python 3",
   "language": "python",
   "name": "python3"
  },
  "language_info": {
   "codemirror_mode": {
    "name": "ipython",
    "version": 3
   },
   "file_extension": ".py",
   "mimetype": "text/x-python",
   "name": "python",
   "nbconvert_exporter": "python",
   "pygments_lexer": "ipython3",
   "version": "3.9.2"
  }
 },
 "nbformat": 4,
 "nbformat_minor": 2
}
